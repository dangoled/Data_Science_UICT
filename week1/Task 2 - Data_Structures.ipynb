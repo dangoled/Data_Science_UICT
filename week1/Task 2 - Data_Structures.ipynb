{
  "nbformat": 4,
  "nbformat_minor": 0,
  "metadata": {
    "colab": {
      "provenance": []
    },
    "kernelspec": {
      "name": "python3",
      "display_name": "Python 3"
    },
    "language_info": {
      "name": "python"
    }
  },
  "cells": [
    {
      "cell_type": "markdown",
      "source": [
        "<h1><b>Data Structures</b></h1></br>\n",
        "<h2><i>These are structures that store a collection of related data i.e., lists, tuple, dictionary and set.<ih2></i></br>\n",
        "They are used to organise and store data so that so we can easily maninulate it. (Basically in handling data, processing and analyzing it to get meaningful insights of it)\n"
      ],
      "metadata": {
        "id": "O2lBGQGJUaYD"
      }
    },
    {
      "cell_type": "markdown",
      "source": [
        "<b>List</b></br>\n",
        "This is a mutable data structure that holds an ordered collection of items. It should be enclosed in square brackets [], with commas separating each items. We can add, remove or even search for items in a list.Index based"
      ],
      "metadata": {
        "id": "O1UX4OXlU8Fi"
      }
    },
    {
      "cell_type": "markdown",
      "source": [
        "Starting"
      ],
      "metadata": {
        "id": "sCCOFAHhBQIK"
      }
    },
    {
      "cell_type": "code",
      "source": [
        " # Length of List\n",
        "cars = ['benz', 'BMW','subaru','ist']\n",
        "print(cars)\n",
        "print(len(cars))"
      ],
      "metadata": {
        "id": "sw3q5wU6V81o",
        "colab": {
          "base_uri": "https://localhost:8080/"
        },
        "outputId": "917f25b5-637f-4105-b44f-da4180555231"
      },
      "execution_count": 1,
      "outputs": [
        {
          "output_type": "stream",
          "name": "stdout",
          "text": [
            "['benz', 'BMW', 'subaru', 'ist']\n",
            "4\n"
          ]
        }
      ]
    },
    {
      "cell_type": "code",
      "source": [
        "#Append\n",
        "cars.append('toyota')\n",
        "print(cars)"
      ],
      "metadata": {
        "id": "3TA68ZTomjbf",
        "colab": {
          "base_uri": "https://localhost:8080/"
        },
        "outputId": "56d451f8-c611-4e3e-8576-98074e7fd6ab"
      },
      "execution_count": 2,
      "outputs": [
        {
          "output_type": "stream",
          "name": "stdout",
          "text": [
            "['benz', 'BMW', 'subaru', 'ist', 'toyota']\n"
          ]
        }
      ]
    },
    {
      "cell_type": "code",
      "source": [
        "#Sorting: Ascending Order\n",
        "cars.sort()\n",
        "print(cars)"
      ],
      "metadata": {
        "id": "p8dKQMLtnoCa",
        "colab": {
          "base_uri": "https://localhost:8080/"
        },
        "outputId": "b902cce4-b520-4218-f1fc-72cc0c7beaf3"
      },
      "execution_count": 3,
      "outputs": [
        {
          "output_type": "stream",
          "name": "stdout",
          "text": [
            "['BMW', 'benz', 'ist', 'subaru', 'toyota']\n"
          ]
        }
      ]
    },
    {
      "cell_type": "code",
      "source": [
        "#Indexing\n",
        "print(cars[4])"
      ],
      "metadata": {
        "id": "yEl3ZjQHnxab",
        "colab": {
          "base_uri": "https://localhost:8080/"
        },
        "outputId": "767b8c5b-f8ce-4654-fe45-328f62ec4b82"
      },
      "execution_count": 4,
      "outputs": [
        {
          "output_type": "stream",
          "name": "stdout",
          "text": [
            "toyota\n"
          ]
        }
      ]
    },
    {
      "cell_type": "code",
      "source": [
        "#Removing\n",
        "cars.remove('ist')\n",
        "print(cars)"
      ],
      "metadata": {
        "id": "B4d-a0QyoXL4",
        "colab": {
          "base_uri": "https://localhost:8080/"
        },
        "outputId": "30363c62-deb1-4eaa-b6c3-64c8db1096d8"
      },
      "execution_count": 5,
      "outputs": [
        {
          "output_type": "stream",
          "name": "stdout",
          "text": [
            "['BMW', 'benz', 'subaru', 'toyota']\n"
          ]
        }
      ]
    },
    {
      "cell_type": "code",
      "source": [
        "del cars[0]\n",
        "print(cars)"
      ],
      "metadata": {
        "colab": {
          "base_uri": "https://localhost:8080/"
        },
        "id": "N4Dy2lfLFEl9",
        "outputId": "0fbcec5c-b900-45c0-b0e7-70a23fbe3cc0"
      },
      "execution_count": 6,
      "outputs": [
        {
          "output_type": "stream",
          "name": "stdout",
          "text": [
            "['benz', 'subaru', 'toyota']\n"
          ]
        }
      ]
    },
    {
      "cell_type": "code",
      "source": [
        "#Slicing: Returns a portion of the list through indexing\n",
        "print(cars[0:2])\n"
      ],
      "metadata": {
        "id": "VyO4fBxxojen",
        "colab": {
          "base_uri": "https://localhost:8080/"
        },
        "outputId": "6833e72d-41f6-4b2e-8d50-599519b6b50a"
      },
      "execution_count": 7,
      "outputs": [
        {
          "output_type": "stream",
          "name": "stdout",
          "text": [
            "['benz', 'subaru']\n"
          ]
        }
      ]
    },
    {
      "cell_type": "code",
      "source": [
        "#Insert\n",
        "cars.insert(0,'passo')\n",
        "print(cars)"
      ],
      "metadata": {
        "id": "vieHmA_jpBTe",
        "colab": {
          "base_uri": "https://localhost:8080/"
        },
        "outputId": "e212bc7d-865a-473f-ee7d-58e29bd0cfd1"
      },
      "execution_count": 8,
      "outputs": [
        {
          "output_type": "stream",
          "name": "stdout",
          "text": [
            "['passo', 'benz', 'subaru', 'toyota']\n"
          ]
        }
      ]
    },
    {
      "cell_type": "code",
      "source": [
        "#Reverse: Descending\n",
        "cars.sort(reverse=True)\n",
        "print(cars)"
      ],
      "metadata": {
        "id": "7vGxRBbCp-ha",
        "colab": {
          "base_uri": "https://localhost:8080/"
        },
        "outputId": "57ba71d6-fcdb-49c3-a3a5-95c1c947c725"
      },
      "execution_count": 9,
      "outputs": [
        {
          "output_type": "stream",
          "name": "stdout",
          "text": [
            "['toyota', 'subaru', 'passo', 'benz']\n"
          ]
        }
      ]
    },
    {
      "cell_type": "markdown",
      "source": [
        "<b>Assignment 1</b>\n",
        "1. Create a list of your top 5 favorite movies. Then, replace the movie at index 2 with a new one. Finally, sort the list in alphabetical order and print the result.\n",
        "2. Given a list of numbers, [5, 15, 25, 35, 45], insert the number 20 at the correct position to maintain the sorted order. Then, remove the last item and print the modified list."
      ],
      "metadata": {
        "id": "uqzPiSV0zlmJ"
      }
    },
    {
      "cell_type": "code",
      "source": [
        "# 1. List of my top 5 favorite movies\n",
        "my_movies = [\"28 Years Later\", \"War of the Worlds\", \"My Oxford Year\", \"Happy Gilmore\", \"Interstellar\"]\n",
        "print(my_movies)"
      ],
      "metadata": {
        "id": "EzGEla8fysJp",
        "outputId": "6c3d1582-848e-4214-96ea-c25fbbacc1f0",
        "colab": {
          "base_uri": "https://localhost:8080/"
        }
      },
      "execution_count": 10,
      "outputs": [
        {
          "output_type": "stream",
          "name": "stdout",
          "text": [
            "['28 Years Later', 'War of the Worlds', 'My Oxford Year', 'Happy Gilmore', 'Interstellar']\n"
          ]
        }
      ]
    },
    {
      "cell_type": "code",
      "source": [
        "#Replacing the movie at index 2\n",
        "my_movies[2] = \"The Social Network\"\n",
        "print(my_movies)"
      ],
      "metadata": {
        "id": "3iLlwzvdzbvT",
        "outputId": "d61c8209-5500-43be-a29b-7909ebcd4b75",
        "colab": {
          "base_uri": "https://localhost:8080/"
        }
      },
      "execution_count": 11,
      "outputs": [
        {
          "output_type": "stream",
          "name": "stdout",
          "text": [
            "['28 Years Later', 'War of the Worlds', 'The Social Network', 'Happy Gilmore', 'Interstellar']\n"
          ]
        }
      ]
    },
    {
      "cell_type": "code",
      "source": [
        "#Sorting the list in alphabetical order\n",
        "my_movies.sort()\n",
        "print(my_movies)"
      ],
      "metadata": {
        "id": "xGXC7kaczrD3",
        "outputId": "15c4a0a2-481f-4cd2-d858-3b49478afaa3",
        "colab": {
          "base_uri": "https://localhost:8080/"
        }
      },
      "execution_count": 12,
      "outputs": [
        {
          "output_type": "stream",
          "name": "stdout",
          "text": [
            "['28 Years Later', 'Happy Gilmore', 'Interstellar', 'The Social Network', 'War of the Worlds']\n"
          ]
        }
      ]
    },
    {
      "cell_type": "code",
      "source": [
        "# 2. Given a list of numbers, [5, 15, 25, 35, 45]\n",
        "numbers = [5, 15, 25, 35, 45]\n",
        "print(numbers)"
      ],
      "metadata": {
        "id": "djydlA5k0A0V",
        "outputId": "0668b12b-37e6-4dd5-81eb-996a58702be6",
        "colab": {
          "base_uri": "https://localhost:8080/"
        }
      },
      "execution_count": 13,
      "outputs": [
        {
          "output_type": "stream",
          "name": "stdout",
          "text": [
            "[5, 15, 25, 35, 45]\n"
          ]
        }
      ]
    },
    {
      "cell_type": "code",
      "source": [
        "#  Inserting the number 20 at the correct position to maintain the sorted order\n",
        "numbers.insert(2, 20)\n",
        "print(numbers)"
      ],
      "metadata": {
        "id": "jV6Y5udJ0Orm",
        "outputId": "a9e9ce6d-027a-4436-b73d-04bef0fc1266",
        "colab": {
          "base_uri": "https://localhost:8080/"
        }
      },
      "execution_count": 14,
      "outputs": [
        {
          "output_type": "stream",
          "name": "stdout",
          "text": [
            "[5, 15, 20, 25, 35, 45]\n"
          ]
        }
      ]
    },
    {
      "cell_type": "code",
      "source": [
        "# removing the last item\n",
        "del numbers[5]\n",
        "print(numbers)"
      ],
      "metadata": {
        "id": "ZgTywDV-0yYm",
        "outputId": "d7c3dad5-133a-4f96-bcd9-c74db97afb32",
        "colab": {
          "base_uri": "https://localhost:8080/"
        }
      },
      "execution_count": 15,
      "outputs": [
        {
          "output_type": "stream",
          "name": "stdout",
          "text": [
            "[5, 15, 20, 25, 35]\n"
          ]
        }
      ]
    },
    {
      "cell_type": "markdown",
      "source": [
        "<b>Tuples</b></br>\n",
        "These hold together multiple items. They are immutable so cannot be modified. They are separated by commas and enclosed in parentheses ()."
      ],
      "metadata": {
        "id": "ORMLkGown4EJ"
      }
    },
    {
      "cell_type": "code",
      "source": [
        "# indexing\n"
      ],
      "metadata": {
        "id": "cULCQvYKq3s8"
      },
      "execution_count": 16,
      "outputs": []
    },
    {
      "cell_type": "code",
      "source": [
        "#Counting\n"
      ],
      "metadata": {
        "id": "BNKa_2DYrIjf"
      },
      "execution_count": 17,
      "outputs": []
    },
    {
      "cell_type": "markdown",
      "source": [
        "<b>Assignment 2</b>\n",
        "1. You have a tuple ('pen', 'pencil', 'eraser'). Your friend wants to borrow the 'pencil' and you want to add a 'ruler' to your collection. Since tuples are immutable, how can you achieve this by creating a new tuple?\n",
        "\n",
        "2. You are given a tuple of student scores: (85, 92, 78, 85, 90, 85). First, find out how many times the score 85 appears. Then, find the index of the first occurrence of the score 92."
      ],
      "metadata": {
        "id": "W8mfr2uO0BRk"
      }
    },
    {
      "cell_type": "code",
      "source": [
        "# 1. Original tuple\n",
        "stationary = ('pen', 'pencil', 'eraser')\n",
        "print(stationary)\n",
        "\n",
        "# For friend to borrow pencil and i add ruler to the collection, since tuples are immutable i will first convert the tuple to a list\n",
        "stationary_list = list(stationary)\n",
        "print(stationary_list)\n",
        "\n",
        "#remove pencil\n",
        "stationary_list.remove('pencil')\n",
        "print(stationary_list)\n",
        "\n",
        "#add ruler\n",
        "stationary_list.append('ruler')\n",
        "print(stationary_list)\n",
        "\n",
        "#convert resultig list back to tuple\n",
        "stationary = tuple(stationary_list)\n",
        "print(stationary)"
      ],
      "metadata": {
        "colab": {
          "base_uri": "https://localhost:8080/"
        },
        "id": "Yk9EhSNvKBEC",
        "outputId": "75d81779-5b20-4aeb-b66c-5c802a20ab29"
      },
      "execution_count": 18,
      "outputs": [
        {
          "output_type": "stream",
          "name": "stdout",
          "text": [
            "('pen', 'pencil', 'eraser')\n",
            "['pen', 'pencil', 'eraser']\n",
            "['pen', 'eraser']\n",
            "['pen', 'eraser', 'ruler']\n",
            "('pen', 'eraser', 'ruler')\n"
          ]
        }
      ]
    },
    {
      "cell_type": "code",
      "source": [
        "#2. tuple of student scores\n",
        "student_scores = (85, 92, 78, 85, 90, 85)\n",
        "\n",
        "# to find how many times the score 85 appears\n",
        "number_of_times_85_appears = student_scores.count(85)\n",
        "print(f\"85 appears {number_of_times_85_appears} times.\")\n",
        "\n",
        "# to find the index of the first occurrence of the score 92\n",
        "index_of_92 = student_scores.index(92)\n",
        "print(f\"92 first occurs at index {index_of_92}.\")\n"
      ],
      "metadata": {
        "colab": {
          "base_uri": "https://localhost:8080/"
        },
        "id": "4SpCSAtdLiJj",
        "outputId": "9203b86f-4edf-435a-9794-55e4a4b0a52c"
      },
      "execution_count": 19,
      "outputs": [
        {
          "output_type": "stream",
          "name": "stdout",
          "text": [
            "85 appears 3 times.\n",
            "92 first occurs at index 1.\n"
          ]
        }
      ]
    },
    {
      "cell_type": "markdown",
      "source": [
        "<b>Sets</b></br>\n",
        "They are unordered, mutable collection of unique items.They are created by inserting items separated by commas, enclosed in curly brackets {}.\n",
        "\n",
        "<i>Empty curly brackets do not create an empty set, but rather a dictionary<i>"
      ],
      "metadata": {
        "id": "kfwrETVrr439"
      }
    },
    {
      "cell_type": "code",
      "source": [
        "#Adding elements\n"
      ],
      "metadata": {
        "id": "l_HiA-bfsnyC"
      },
      "execution_count": 20,
      "outputs": []
    },
    {
      "cell_type": "code",
      "source": [
        "#Removing\n"
      ],
      "metadata": {
        "id": "Q2wIIOD3t67Y"
      },
      "execution_count": 21,
      "outputs": []
    },
    {
      "cell_type": "code",
      "source": [
        "#Combining\n"
      ],
      "metadata": {
        "id": "8NXqqs3St_W0"
      },
      "execution_count": 22,
      "outputs": []
    },
    {
      "cell_type": "code",
      "source": [
        "#Finding  intersection\n",
        "\n"
      ],
      "metadata": {
        "id": "kzfUFxtLuNjk"
      },
      "execution_count": 23,
      "outputs": []
    },
    {
      "cell_type": "markdown",
      "source": [
        "<b>Assignment 3</b>\n",
        "1. Create a set of your favorite hobbies. Add a new hobby to the set. Then, create another set with a friend's hobbies. Find the hobbies that you both have in common and the hobbies that are unique to each of you.\n",
        "\n",
        "2. You have a set of numbers A = {1, 2, 3, 4, 5} and another set B = {4, 5, 6, 7, 8}. Find the union of both sets (all unique numbers from both sets) and the difference between set A and set B (numbers present in A but not in B).\n",
        "\n"
      ],
      "metadata": {
        "id": "ALefDL_6z4Lu"
      }
    },
    {
      "cell_type": "code",
      "source": [
        "#1. Set of my hobbies and those for my friend\n",
        "my_hobbies = {\"Eating\", \"Dancing\", \"Sleeping\", \"Swimming\", \"Miming\"}\n",
        "my_friend_hobbies = {\"Swimming\", \"Singing\", \"Riding\", \"Eating\", \"Cuddling\"}\n",
        "\n",
        "#common hobbies we both have\n",
        "our_common_hobbies = my_hobbies.intersection(my_friend_hobbies)\n",
        "print(f\"My friend and I both enjoy: {our_common_hobbies}\")\n",
        "\n",
        "#Unique hobbies\n",
        "unique_to_me = my_hobbies.difference(my_friend_hobbies)\n",
        "unique_to_my_friend = my_friend_hobbies.difference(my_hobbies)\n",
        "print(f\"My unique hobbies are: {unique_to_me}\")\n",
        "print(f\"My friend's unique hobbies are: {unique_to_my_friend}\")\n"
      ],
      "metadata": {
        "colab": {
          "base_uri": "https://localhost:8080/"
        },
        "id": "jbZD0uIYOF-A",
        "outputId": "c2860ded-9ebc-431b-ced6-6d759de3929f"
      },
      "execution_count": 24,
      "outputs": [
        {
          "output_type": "stream",
          "name": "stdout",
          "text": [
            "My friend and I both enjoy: {'Eating', 'Swimming'}\n",
            "My unique hobbies are: {'Dancing', 'Miming', 'Sleeping'}\n",
            "My friend's unique hobbies are: {'Riding', 'Singing', 'Cuddling'}\n"
          ]
        }
      ]
    },
    {
      "cell_type": "code",
      "source": [
        "#2. Set A and B\n",
        "A = {1, 2, 3, 4, 5}\n",
        "B = {4, 5, 6, 7, 8}\n",
        "\n",
        "#Union of the sets\n",
        "union_of_sets = A.union(B)\n",
        "print(f\"The union of A and B is: {union_of_sets}\")\n",
        "\n",
        "#Difference between A and B\n",
        "difference_between_A_and_B = A.difference(B)\n",
        "print(f\"The difference between A and B is: {difference_between_A_and_B}\")"
      ],
      "metadata": {
        "colab": {
          "base_uri": "https://localhost:8080/"
        },
        "id": "zRvj0UyHQk5P",
        "outputId": "c81a0c29-ef83-4ba1-b38c-0b6e14c57dcd"
      },
      "execution_count": 25,
      "outputs": [
        {
          "output_type": "stream",
          "name": "stdout",
          "text": [
            "The union of A and B is: {1, 2, 3, 4, 5, 6, 7, 8}\n",
            "The difference between A and B is: {1, 2, 3}\n"
          ]
        }
      ]
    },
    {
      "cell_type": "markdown",
      "source": [
        "<b>Dictionaries</b></br>\n",
        "They are mutable and unordered collection of key-value pairs. They associate a key (i.e., name) to a certain value (i.e., details)."
      ],
      "metadata": {
        "id": "nVuiQoRGufNf"
      }
    },
    {
      "cell_type": "code",
      "source": [],
      "metadata": {
        "id": "hPWwJf_NvZsd"
      },
      "execution_count": 25,
      "outputs": []
    },
    {
      "cell_type": "code",
      "source": [
        "#retrieve value by key\n",
        "\n"
      ],
      "metadata": {
        "id": "Owzr-ETcw7es"
      },
      "execution_count": 26,
      "outputs": []
    },
    {
      "cell_type": "code",
      "source": [
        "#Set default value: Appended a new key and value to the dictionary\n"
      ],
      "metadata": {
        "id": "74jxFjynxH5G"
      },
      "execution_count": 27,
      "outputs": []
    },
    {
      "cell_type": "code",
      "source": [
        "#update key value pairs\n"
      ],
      "metadata": {
        "id": "0ik8WBhkxbpi"
      },
      "execution_count": 28,
      "outputs": []
    },
    {
      "cell_type": "code",
      "source": [
        "#Remove key value pairs\n"
      ],
      "metadata": {
        "id": "HtQsR6EHx3QM"
      },
      "execution_count": 29,
      "outputs": []
    },
    {
      "cell_type": "code",
      "source": [
        "#Change key 'Admin' to 'Officers'\n"
      ],
      "metadata": {
        "id": "lA3BML3PypWp"
      },
      "execution_count": 30,
      "outputs": []
    },
    {
      "cell_type": "markdown",
      "source": [
        "<b>Assignment 4</b>\n",
        "1. Create a dictionary representing a car with keys 'brand', 'model', and 'year'. Then, add a new key-value pair for 'color'. Finally, update the 'year' to a newer year and remove the 'model' key.\n",
        "\n",
        "2. You have a dictionary of product prices: {'apple': 0.50, 'banana': 0.25, 'orange': 0.60}. You want to increase the price of 'apple' by 10% and add a new product 'mango' with a price of 1.25."
      ],
      "metadata": {
        "id": "loBwdxTS0TWv"
      }
    },
    {
      "cell_type": "code",
      "source": [
        "#1. Dictionary representing a car\n",
        "car = {\n",
        "      'brand': 'Toyota',\n",
        "      'model': 'Vanguard',\n",
        "      'year': 2020\n",
        "              }\n",
        "print(car)\n",
        "\n",
        "# adding new key-value for color\n",
        "car['color'] = 'Blue'\n",
        "print(car)"
      ],
      "metadata": {
        "id": "JcyGWhkZR1_u",
        "outputId": "06a074d9-5928-4ba7-9561-4eb54369288f",
        "colab": {
          "base_uri": "https://localhost:8080/"
        }
      },
      "execution_count": 31,
      "outputs": [
        {
          "output_type": "stream",
          "name": "stdout",
          "text": [
            "{'brand': 'Toyota', 'model': 'Vanguard', 'year': 2020}\n",
            "{'brand': 'Toyota', 'model': 'Vanguard', 'year': 2020, 'color': 'Blue'}\n"
          ]
        }
      ]
    },
    {
      "cell_type": "code",
      "source": [
        "# Update year to new year and remove model key\n",
        "car['year'] = 2023\n",
        "del car['model']\n",
        "print(car)"
      ],
      "metadata": {
        "id": "ivQQEkyKShUX",
        "outputId": "b53c5af2-b53d-4293-856f-817d0bec0ed0",
        "colab": {
          "base_uri": "https://localhost:8080/"
        }
      },
      "execution_count": 32,
      "outputs": [
        {
          "output_type": "stream",
          "name": "stdout",
          "text": [
            "{'brand': 'Toyota', 'year': 2023, 'color': 'Blue'}\n"
          ]
        }
      ]
    },
    {
      "cell_type": "code",
      "source": [
        "#2. dictionary of product prices\n",
        "prices =  {\n",
        "            'apple': 0.50,\n",
        "            'banana': 0.25,\n",
        "            'orange': 0.60\n",
        "          }\n",
        "print(prices)\n",
        "\n",
        "# Increase the price of 'apple' by 10% and add a new product 'mango' with a price of 1.25.\n",
        "prices['apple'] = (10/100)*prices['apple'] + prices['apple']\n",
        "prices['mango'] = 1.25\n",
        "print(prices)"
      ],
      "metadata": {
        "id": "c8gRkhQLTQHi",
        "outputId": "ab0d8476-62d1-4fd5-c897-1ea179f55257",
        "colab": {
          "base_uri": "https://localhost:8080/"
        }
      },
      "execution_count": 33,
      "outputs": [
        {
          "output_type": "stream",
          "name": "stdout",
          "text": [
            "{'apple': 0.5, 'banana': 0.25, 'orange': 0.6}\n",
            "{'apple': 0.55, 'banana': 0.25, 'orange': 0.6, 'mango': 1.25}\n"
          ]
        }
      ]
    },
    {
      "cell_type": "markdown",
      "source": [],
      "metadata": {
        "id": "_gIf1LAgWzPg"
      }
    }
  ]
}