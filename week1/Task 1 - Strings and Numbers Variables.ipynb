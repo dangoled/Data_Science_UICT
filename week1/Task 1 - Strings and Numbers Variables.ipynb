{
  "nbformat": 4,
  "nbformat_minor": 0,
  "metadata": {
    "colab": {
      "provenance": []
    },
    "kernelspec": {
      "name": "python3",
      "display_name": "Python 3"
    },
    "language_info": {
      "name": "python"
    }
  },
  "cells": [
    {
      "cell_type": "markdown",
      "source": [
        "<h1><b>Python Language Basics</b></h1>"
      ],
      "metadata": {
        "id": "4LIdEuxMT3WO"
      }
    },
    {
      "cell_type": "markdown",
      "source": [
        "<h2><b>Literal Constants</b></h2></br>\n",
        "<h4>A literal Constant is like a number i.e., 1, 4, 0.34, 7.3 or like a string like \"You are welcome\". The value of a literal constant represents itself only.</h4>\n"
      ],
      "metadata": {
        "id": "YEVsj682WekV"
      }
    },
    {
      "cell_type": "markdown",
      "source": [
        "<b>Print Function</b></br>\n",
        "It is used to display output in the console.\n",
        "\n",
        "<b>Comment</b></br>\n",
        "Allows you to comment out a line of code in the code cell without executing it. Using #\n",
        "or\n",
        "Comment out a block of text in a code cell using \" \" \"  or ' ' '\n",
        "\n"
      ],
      "metadata": {
        "id": "I_VF2HAmftox"
      }
    },
    {
      "cell_type": "code",
      "source": [
        "#Use the Print Function to return Hello World!\n",
        "print('Hello World')\n"
      ],
      "metadata": {
        "id": "jBCA8_t4fShR",
        "colab": {
          "base_uri": "https://localhost:8080/"
        },
        "outputId": "b5dfea03-d6f2-4821-b023-84b6d830b601"
      },
      "execution_count": 1,
      "outputs": [
        {
          "output_type": "stream",
          "name": "stdout",
          "text": [
            "Hello World\n"
          ]
        }
      ]
    },
    {
      "cell_type": "code",
      "source": [
        "#Prompt a user to enter their name and print\n",
        "name = input('What is Your First name * ')\n",
        "print(name)"
      ],
      "metadata": {
        "id": "0rrxceUqfsf-",
        "colab": {
          "base_uri": "https://localhost:8080/"
        },
        "outputId": "26d7205a-ef19-49c9-becd-afea32c94c73"
      },
      "execution_count": 2,
      "outputs": [
        {
          "output_type": "stream",
          "name": "stdout",
          "text": [
            "What is Your First name * Daniel\n",
            "Daniel\n"
          ]
        }
      ]
    },
    {
      "cell_type": "markdown",
      "source": [
        "<b>Numbers Variables</b></br>\n",
        "<i>Numbers can be integers or Floats.They can be stored in variables<i>\n"
      ],
      "metadata": {
        "id": "jbnqANLfUlvd"
      }
    },
    {
      "cell_type": "code",
      "source": [
        "#Declare an integer and float to return its output using the print statement\n",
        "a = 25\n",
        "print(a)\n",
        "\n",
        "b = 0.34\n",
        "print(b)\n",
        "\n",
        "print(a,b)"
      ],
      "metadata": {
        "id": "WGtu37ylbKXN",
        "colab": {
          "base_uri": "https://localhost:8080/"
        },
        "outputId": "b363c55d-06c3-482d-b40c-7868745c8ffb"
      },
      "execution_count": 3,
      "outputs": [
        {
          "output_type": "stream",
          "name": "stdout",
          "text": [
            "25\n",
            "0.34\n",
            "25 0.34\n"
          ]
        }
      ]
    },
    {
      "cell_type": "markdown",
      "source": [
        "Declare multiple variables and perform math operations on the values"
      ],
      "metadata": {
        "id": "xm-4bicc4OqK"
      }
    },
    {
      "cell_type": "code",
      "source": [
        "#Return the Addition\n",
        "c = 42\n",
        "d = 15\n",
        "\n",
        "print(c + d)"
      ],
      "metadata": {
        "id": "xYywxukgikTU",
        "colab": {
          "base_uri": "https://localhost:8080/"
        },
        "outputId": "2f269b9f-4c7b-4869-f2a5-c90d878fcbea"
      },
      "execution_count": 4,
      "outputs": [
        {
          "output_type": "stream",
          "name": "stdout",
          "text": [
            "57\n"
          ]
        }
      ]
    },
    {
      "cell_type": "code",
      "source": [
        "g = c + d\n",
        "print(g)"
      ],
      "metadata": {
        "colab": {
          "base_uri": "https://localhost:8080/"
        },
        "id": "N4HxhCYKvkMy",
        "outputId": "05724b66-129a-4d90-b279-93ba47ccbfd2"
      },
      "execution_count": 5,
      "outputs": [
        {
          "output_type": "stream",
          "name": "stdout",
          "text": [
            "57\n"
          ]
        }
      ]
    },
    {
      "cell_type": "code",
      "source": [
        "print(a)"
      ],
      "metadata": {
        "colab": {
          "base_uri": "https://localhost:8080/"
        },
        "id": "4i9z18vYyLkg",
        "outputId": "5081354d-d95a-4c75-888d-b94db041253b"
      },
      "execution_count": 6,
      "outputs": [
        {
          "output_type": "stream",
          "name": "stdout",
          "text": [
            "25\n"
          ]
        }
      ]
    },
    {
      "cell_type": "code",
      "source": [
        "#Division /\n",
        "print(c / d)"
      ],
      "metadata": {
        "id": "E_UR2t-eiwAJ",
        "colab": {
          "base_uri": "https://localhost:8080/"
        },
        "outputId": "e5db1e66-3ae9-4d99-bed9-7c16d8ca43cd"
      },
      "execution_count": 7,
      "outputs": [
        {
          "output_type": "stream",
          "name": "stdout",
          "text": [
            "2.8\n"
          ]
        }
      ]
    },
    {
      "cell_type": "code",
      "source": [
        "#Multiplication\n",
        "print(g / a)"
      ],
      "metadata": {
        "id": "sMRjBTB1i4_j",
        "colab": {
          "base_uri": "https://localhost:8080/"
        },
        "outputId": "6f67d7e2-b524-455d-c477-f187d0db3ba3"
      },
      "execution_count": 8,
      "outputs": [
        {
          "output_type": "stream",
          "name": "stdout",
          "text": [
            "2.28\n"
          ]
        }
      ]
    },
    {
      "cell_type": "code",
      "source": [
        "#Write a program, that prompts a user to input two numbers and find the difference of the 2 numbers.\n",
        "number1 = input(\"Enter First number: \")\n",
        "number2 = input(\"Enter second number: \")\n",
        "difference = int(number2) - int(number1)\n",
        "print(\"The difference between the numbers is \", difference)"
      ],
      "metadata": {
        "id": "aWeZNy78jFKT",
        "colab": {
          "base_uri": "https://localhost:8080/"
        },
        "outputId": "b6a3c55c-0e3a-421d-d172-391d2b6b03b9"
      },
      "execution_count": 9,
      "outputs": [
        {
          "output_type": "stream",
          "name": "stdout",
          "text": [
            "Enter First number: 37\n",
            "Enter second number: 7\n",
            "The difference between the numbers is  -30\n"
          ]
        }
      ]
    },
    {
      "cell_type": "code",
      "source": [
        "#Adding a Variable and a Literal Constant\n",
        "print(a + 10)"
      ],
      "metadata": {
        "id": "sMavVhv-7lWW",
        "colab": {
          "base_uri": "https://localhost:8080/"
        },
        "outputId": "7182f973-6087-4edb-b141-155842fdfd2e"
      },
      "execution_count": 10,
      "outputs": [
        {
          "output_type": "stream",
          "name": "stdout",
          "text": [
            "35\n"
          ]
        }
      ]
    },
    {
      "cell_type": "markdown",
      "source": [
        "<b>Assignment 1 </b>\n",
        "1. Write a program that prompts a user to enter the radius of a circle, calculates the area and circumference, and then prints both results in a user-friendly format."
      ],
      "metadata": {
        "id": "1cs3_3dI2HMB"
      }
    },
    {
      "cell_type": "code",
      "source": [
        "#Program to compute area and circumference of a circle\n",
        "radius = int(input(\"Enter the radius of the circle: \"))\n",
        "area = (22/7) * radius * radius\n",
        "circumference = 2 * (22/7) * radius\n",
        "print(\"The area of the circle is \", area)\n",
        "print(\"The circumference of the circle is \", circumference)"
      ],
      "metadata": {
        "colab": {
          "base_uri": "https://localhost:8080/"
        },
        "id": "Obpdk7AI4mqW",
        "outputId": "091efb13-368b-4198-c95a-7f6db08e3db4"
      },
      "execution_count": 11,
      "outputs": [
        {
          "output_type": "stream",
          "name": "stdout",
          "text": [
            "Enter the radius of the circle: 14\n",
            "The area of the circle is  616.0\n",
            "The circumference of the circle is  88.0\n"
          ]
        }
      ]
    },
    {
      "cell_type": "markdown",
      "source": [
        "<b>String Variables</b></br>\n",
        "<i>This is basically words or characters, and a string can be stored in a Variable. A string is immutable, meaning it cannot be changed<i>"
      ],
      "metadata": {
        "id": "hXDVicQBkl4L"
      }
    },
    {
      "cell_type": "code",
      "source": [
        "#Declare a variable to return your favorite color\n",
        "student = 'Nixon'\n",
        "print(student)\n",
        "Students = 'Nixon is enrolled'\n",
        "print(Students)"
      ],
      "metadata": {
        "id": "cBv-U_5wkhsM",
        "colab": {
          "base_uri": "https://localhost:8080/"
        },
        "outputId": "036c091a-872e-423d-ecdb-692b3842f775"
      },
      "execution_count": 12,
      "outputs": [
        {
          "output_type": "stream",
          "name": "stdout",
          "text": [
            "Nixon\n",
            "Nixon is enrolled\n"
          ]
        }
      ]
    },
    {
      "cell_type": "code",
      "source": [
        "#String functions, uppercase, lowercase, capitalize\n",
        "print(student.upper())"
      ],
      "metadata": {
        "id": "8jIOfePncMP0",
        "colab": {
          "base_uri": "https://localhost:8080/"
        },
        "outputId": "fc3e6b73-d022-4bf2-e084-64cd3b38c28b"
      },
      "execution_count": 13,
      "outputs": [
        {
          "output_type": "stream",
          "name": "stdout",
          "text": [
            "NIXON\n"
          ]
        }
      ]
    },
    {
      "cell_type": "code",
      "source": [
        "#Format Strings\n",
        "color = 'purple'\n",
        "car = 'subaru'\n",
        "print(f'Lujja wants a {color} {car}')\n"
      ],
      "metadata": {
        "id": "NUB3vjcaox2s",
        "colab": {
          "base_uri": "https://localhost:8080/"
        },
        "outputId": "eb2eb15c-0fc3-4bd2-bb25-529de3277864"
      },
      "execution_count": 14,
      "outputs": [
        {
          "output_type": "stream",
          "name": "stdout",
          "text": [
            "Lujja wants a purple subaru\n"
          ]
        }
      ]
    },
    {
      "cell_type": "code",
      "source": [
        "print('Jamil was offered a ' + color + '-'+ car + ' and accepted' )"
      ],
      "metadata": {
        "colab": {
          "base_uri": "https://localhost:8080/"
        },
        "id": "6EXE3Ark89r2",
        "outputId": "3ec148e0-0a83-44cd-832f-df72ca048379"
      },
      "execution_count": 15,
      "outputs": [
        {
          "output_type": "stream",
          "name": "stdout",
          "text": [
            "Jamil was offered a purple-subaru and accepted\n"
          ]
        }
      ]
    },
    {
      "cell_type": "code",
      "source": [
        "#Combine Strings\n",
        "lujja_car = color + ' ' + car\n",
        "print(\"Lujja's car is a \", lujja_car)"
      ],
      "metadata": {
        "id": "44Eg3GDgsTVz",
        "colab": {
          "base_uri": "https://localhost:8080/"
        },
        "outputId": "8463269f-36cc-430b-a849-e851abb43c34"
      },
      "execution_count": 16,
      "outputs": [
        {
          "output_type": "stream",
          "name": "stdout",
          "text": [
            "Lujja's car is a  purple subaru\n"
          ]
        }
      ]
    },
    {
      "cell_type": "code",
      "source": [
        "#Declare two variables FirstName and LastName, capitaize them, to return a full name\n",
        "FirstName = 'Daniel'\n",
        "LastName = 'Angole'\n",
        "FullName = FirstName + ' ' + LastName\n",
        "print(FullName.upper())"
      ],
      "metadata": {
        "id": "i-QOqD9Mukqb",
        "colab": {
          "base_uri": "https://localhost:8080/"
        },
        "outputId": "c63c30e1-2c91-4bf7-f02b-ca0285f564a8"
      },
      "execution_count": 17,
      "outputs": [
        {
          "output_type": "stream",
          "name": "stdout",
          "text": [
            "DANIEL ANGOLE\n"
          ]
        }
      ]
    },
    {
      "cell_type": "markdown",
      "source": [
        "<b>Assignment 2</b>\n",
        "1. Create a program that asks a user for their first name and last name. Then, create a new variable called full_name by combining the first and last names in uppercase with a space in between. Finally, print a message that says: \"Hello, [Full Name]! Your name has [Number] characters.\""
      ],
      "metadata": {
        "id": "jdL80fdk2bks"
      }
    },
    {
      "cell_type": "code",
      "source": [
        "firstName = input('Enter your first name: ')\n",
        "lastName = input('Enter your last name: ')\n",
        "full_name = firstName.upper() + ' ' + lastName.upper()\n",
        "print(f'Hello, {full_name}! Your name has {len(full_name)} characters.')"
      ],
      "metadata": {
        "colab": {
          "base_uri": "https://localhost:8080/"
        },
        "id": "Rjx0Kn-l7hAa",
        "outputId": "7a93fa68-bfe8-4b9a-8a23-24e9f4b6259f"
      },
      "execution_count": 19,
      "outputs": [
        {
          "output_type": "stream",
          "name": "stdout",
          "text": [
            "Enter your first name: Daniel\n",
            "Enter your last name: Angole\n",
            "Hello, DANIEL ANGOLE! Your name has 13 characters.\n"
          ]
        }
      ]
    },
    {
      "cell_type": "markdown",
      "source": [
        "<b>Combining strings with numbers</b></br>\n",
        "You can return an output by using + to add numbers or to concatenate multiple strings.\n",
        "The print function won't know what to do if you pass a number and a string, so it would normally pass an error.\n",
        "The number, has to be converted to a string using str(variable)"
      ],
      "metadata": {
        "id": "MepRdvrI0mMX"
      }
    },
    {
      "cell_type": "code",
      "source": [
        "#Converting a number to a string\n",
        "fuel = 25\n",
        "print(\"Lujja's \" + lujja_car + \" has been fuelled with \" + str(fuel) + \" litres of petrol\")"
      ],
      "metadata": {
        "id": "W5uLkAn1bJ0K",
        "colab": {
          "base_uri": "https://localhost:8080/"
        },
        "outputId": "06d3d9ca-c2d7-4631-964f-f165b1d8132e"
      },
      "execution_count": 20,
      "outputs": [
        {
          "output_type": "stream",
          "name": "stdout",
          "text": [
            "Lujja's purple subaru has been fuelled with 25 litres of petrol\n"
          ]
        }
      ]
    },
    {
      "cell_type": "markdown",
      "source": [
        "<b>Assignment 3</b>\n",
        "1. Create a program that asks a user for their name and age. Then, calculate the year they were born and print a message like: \"Hi [Name], you are [Age] years old, so you were born in [Year].\""
      ],
      "metadata": {
        "id": "U1u1oaDK2qZk"
      }
    },
    {
      "cell_type": "code",
      "source": [
        "#Program to compute year of birth\n",
        "name = input(\"Please enter your name: \")\n",
        "current_age = int(input(\"How old are you: \"))\n",
        "year_of_birth = 2025 - current_age\n",
        "print(f\"Hi {name}, you are {current_age} years old. Your year of birth is {year_of_birth}.\")"
      ],
      "metadata": {
        "colab": {
          "base_uri": "https://localhost:8080/"
        },
        "id": "-oDiIwE6WpHZ",
        "outputId": "52ba6d51-175e-4f7d-ca69-e2f7164c18e3"
      },
      "execution_count": 21,
      "outputs": [
        {
          "output_type": "stream",
          "name": "stdout",
          "text": [
            "Please enter your name: Daniel Angole\n",
            "How old are you: 29\n",
            "Hi Daniel Angole, you are 29 years old. Your year of birth is 1996.\n"
          ]
        }
      ]
    }
  ]
}