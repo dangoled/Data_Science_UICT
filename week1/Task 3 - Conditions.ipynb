{
  "nbformat": 4,
  "nbformat_minor": 0,
  "metadata": {
    "colab": {
      "provenance": []
    },
    "kernelspec": {
      "name": "python3",
      "display_name": "Python 3"
    },
    "language_info": {
      "name": "python"
    }
  },
  "cells": [
    {
      "cell_type": "markdown",
      "source": [
        "<h1><b>Conditions and Loops</b></h1></br>\n",
        "<h2><i>They are used to evaluate whether a statement is true or false. They are implemented using if, elif, and else statements, together with logical operators [and, or, not] and comparison operators [==, !=, >, <, etc]</h2></i>\n"
      ],
      "metadata": {
        "id": "L7HB7QZ87Cpl"
      }
    },
    {
      "cell_type": "code",
      "source": [
        "#IF Statements\n"
      ],
      "metadata": {
        "id": "wCw3Wtc8AO4D"
      },
      "execution_count": 1,
      "outputs": []
    },
    {
      "cell_type": "markdown",
      "source": [
        "<b>To do</b></br>\n",
        "1. Calculate the tax of anything purchased for more than 1000shs is charged 5% tax otherwise 2%"
      ],
      "metadata": {
        "id": "5M0zVJJ1GoPs"
      }
    },
    {
      "cell_type": "markdown",
      "source": [
        "<b>Assignments 1</b>\n",
        "1. Write a program that asks the user for their age and then prints whether they are a minor (under 18), an adult (18-64), or a senior (65+).\n",
        "2. Create a program that takes a number as input and prints whether it's positive, negative, or zero."
      ],
      "metadata": {
        "id": "egSc5FDq3kDu"
      }
    },
    {
      "cell_type": "code",
      "source": [
        "#1. program that asks the user for their age and then prints whether they are a minor an adult or a senior\n",
        "age = int(input('Enter your age: '))\n",
        "if age < 18:\n",
        "  print(\"You are a Minor\")\n",
        "elif age >= 18 and age <= 64:\n",
        "    print(\"You are an Adult\")\n",
        "else:\n",
        "    print(\"You are a Senior\")"
      ],
      "metadata": {
        "colab": {
          "base_uri": "https://localhost:8080/"
        },
        "id": "Eda7iZ_ocGq0",
        "outputId": "383e7895-5de9-49b2-f42b-2a16b24e68d2"
      },
      "execution_count": 2,
      "outputs": [
        {
          "output_type": "stream",
          "name": "stdout",
          "text": [
            "Enter your age: 23\n",
            "You are an Adult\n"
          ]
        }
      ]
    },
    {
      "cell_type": "code",
      "source": [
        "#2. program that takes a number as input and prints whether it's positive, negative, or zero\n",
        "number = int(input(\"Enter a number: \"))\n",
        "if number > 0:\n",
        "  print(\"The number is positive\")\n",
        "elif number < 0:\n",
        "  print(\"The number is negative\")\n",
        "else:\n",
        "  print(\"The number is zero\")"
      ],
      "metadata": {
        "colab": {
          "base_uri": "https://localhost:8080/"
        },
        "id": "8Nq7gMpWdpiL",
        "outputId": "992881d7-ef72-48ad-828c-3fde6ff50ddb"
      },
      "execution_count": 3,
      "outputs": [
        {
          "output_type": "stream",
          "name": "stdout",
          "text": [
            "Enter a number: 7\n",
            "The number is positive\n"
          ]
        }
      ]
    },
    {
      "cell_type": "markdown",
      "source": [
        "<b>While loop</b></br>\n",
        "Allows you to repeatedly execute a block of statements as long as a condition is true. It is a looping statement."
      ],
      "metadata": {
        "id": "Kbz6hzY4IbNp"
      }
    },
    {
      "cell_type": "code",
      "source": [],
      "metadata": {
        "id": "dT7uecBYE033"
      },
      "execution_count": 3,
      "outputs": []
    },
    {
      "cell_type": "markdown",
      "source": [
        "<b>Assignment 2</b>\n",
        "1. Write a program that asks the user to guess a number between 1 and 10. The program should keep asking for a number until the user guesses the correct number (e.g., 7).\n",
        "2. Create a program that prints the numbers from 10 down to 1."
      ],
      "metadata": {
        "id": "X1xdPr383-SH"
      }
    },
    {
      "cell_type": "code",
      "source": [
        "#1. program that asks the user to guess a number between 1 and 10 and outputs only the correct answer\n",
        "correct_number = 7\n",
        "#initial guess\n",
        "number_guessed = int(input('Guess a number between 1 and 10: '))\n",
        "# while loop to keep user guessing until the guessed number equals the correct number\n",
        "while correct_number != number_guessed:\n",
        "  number_guessed = int(input('Guess a number between 1 and 10: '))\n",
        "print('Yes!!!! You guessed the correct number!')"
      ],
      "metadata": {
        "colab": {
          "base_uri": "https://localhost:8080/"
        },
        "id": "5f-b9XTPeYiH",
        "outputId": "1fc35094-d70d-4a02-818f-2da9cc225e25"
      },
      "execution_count": 4,
      "outputs": [
        {
          "output_type": "stream",
          "name": "stdout",
          "text": [
            "Guess a number between 1 and 10: 7\n",
            "Yes!!!! You guessed the correct number!\n"
          ]
        }
      ]
    },
    {
      "cell_type": "code",
      "source": [
        "#2. program that prints the numbers from 10 down to 1\n",
        "number = 10\n",
        "# while loop to iterate as long as the number is greater than or equal to 1\n",
        "while number >= 1:\n",
        "\n",
        "  # Print the current value\n",
        "  print(number)\n",
        "  # reduce the number by 1\n",
        "  number -= 1"
      ],
      "metadata": {
        "id": "_8fhN-uvgyYc",
        "outputId": "3e4e5799-90da-45e0-db73-1f0a70f8cfd3",
        "colab": {
          "base_uri": "https://localhost:8080/"
        }
      },
      "execution_count": 5,
      "outputs": [
        {
          "output_type": "stream",
          "name": "stdout",
          "text": [
            "10\n",
            "9\n",
            "8\n",
            "7\n",
            "6\n",
            "5\n",
            "4\n",
            "3\n",
            "2\n",
            "1\n"
          ]
        }
      ]
    },
    {
      "cell_type": "markdown",
      "source": [
        "<b>For loop</b></br>\n",
        "It is also a loop statement which iterates over a sequence of objects, going through each item in a sequence.\n",
        "\n"
      ],
      "metadata": {
        "id": "cz8H4HpbQHYP"
      }
    },
    {
      "cell_type": "code",
      "source": [
        "#using for loop to iterate over a range 18 to 45, divides the values by 4 and prints the resultant value within the range. otherwise the loop is over.\n",
        "for i in range(18, 45):\n",
        "  print(i/4)\n"
      ],
      "metadata": {
        "id": "NQJ44qCXNAkw",
        "colab": {
          "base_uri": "https://localhost:8080/"
        },
        "outputId": "e3dd4d10-d460-45e5-ed2a-e2a23c22106b"
      },
      "execution_count": 6,
      "outputs": [
        {
          "output_type": "stream",
          "name": "stdout",
          "text": [
            "4.5\n",
            "4.75\n",
            "5.0\n",
            "5.25\n",
            "5.5\n",
            "5.75\n",
            "6.0\n",
            "6.25\n",
            "6.5\n",
            "6.75\n",
            "7.0\n",
            "7.25\n",
            "7.5\n",
            "7.75\n",
            "8.0\n",
            "8.25\n",
            "8.5\n",
            "8.75\n",
            "9.0\n",
            "9.25\n",
            "9.5\n",
            "9.75\n",
            "10.0\n",
            "10.25\n",
            "10.5\n",
            "10.75\n",
            "11.0\n"
          ]
        }
      ]
    },
    {
      "cell_type": "markdown",
      "source": [
        "<b>Assignment 3 </b>\n",
        "1. Write a program that prints the square of each number from 1 to 10.\n",
        "2. Create a program that finds the sum of all the even numbers between 1 and 100."
      ],
      "metadata": {
        "id": "S-rlT7ia4NSp"
      }
    },
    {
      "cell_type": "code",
      "source": [
        "#1. program that prints the square of each number from 1 to 10\n",
        "for i in range(1, 11):\n",
        "  square = i * i\n",
        "  print(f\"The square of {i} is {square}\")"
      ],
      "metadata": {
        "id": "raZT0nh9jwRG",
        "outputId": "3c6d7948-a37e-4381-a667-161e7746fac0",
        "colab": {
          "base_uri": "https://localhost:8080/"
        }
      },
      "execution_count": 7,
      "outputs": [
        {
          "output_type": "stream",
          "name": "stdout",
          "text": [
            "The square of 1 is 1\n",
            "The square of 2 is 4\n",
            "The square of 3 is 9\n",
            "The square of 4 is 16\n",
            "The square of 5 is 25\n",
            "The square of 6 is 36\n",
            "The square of 7 is 49\n",
            "The square of 8 is 64\n",
            "The square of 9 is 81\n",
            "The square of 10 is 100\n"
          ]
        }
      ]
    },
    {
      "cell_type": "code",
      "source": [
        "#2. program that finds the sum of all the even numbers between 1 and 100\n",
        "sum = 0\n",
        "# Iteration from 1 to 100 included\n",
        "for number in range(1, 101):\n",
        "  # Checking if the number is even (divisible by 2)\n",
        "  if number % 2 == 0:\n",
        "    # Add the even number to get a cumulative sum\n",
        "    sum += number\n",
        "print(f\"The sum of all even numbers between 1 and 100 is: {sum}\")"
      ],
      "metadata": {
        "id": "uAp37lbEkP5P",
        "outputId": "91653089-fc1e-438f-b201-3b25558645c9",
        "colab": {
          "base_uri": "https://localhost:8080/"
        }
      },
      "execution_count": 8,
      "outputs": [
        {
          "output_type": "stream",
          "name": "stdout",
          "text": [
            "The sum of all even numbers between 1 and 100 is: 2550\n"
          ]
        }
      ]
    }
  ]
}